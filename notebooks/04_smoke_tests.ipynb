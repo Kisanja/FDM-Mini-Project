{
 "cells": [
  {
   "cell_type": "code",
   "execution_count": 1,
   "id": "48fc958a",
   "metadata": {},
   "outputs": [
    {
     "name": "stdout",
     "output_type": "stream",
     "text": [
      "Project root on sys.path: C:\\Users\\User\\Desktop\\Projects\\Car_Price\n"
     ]
    }
   ],
   "source": [
    "# Make project root importable so `import src...` works\n",
    "from pathlib import Path\n",
    "import sys\n",
    "\n",
    "PROJECT_ROOT = Path().resolve().parents[0]  # one level up from notebooks/\n",
    "if str(PROJECT_ROOT) not in sys.path:\n",
    "    sys.path.insert(0, str(PROJECT_ROOT))\n",
    "\n",
    "print(\"Project root on sys.path:\", PROJECT_ROOT)\n"
   ]
  },
  {
   "cell_type": "code",
   "execution_count": 2,
   "id": "14db3d82",
   "metadata": {},
   "outputs": [
    {
     "name": "stdout",
     "output_type": "stream",
     "text": [
      "Loaded:\n",
      " - model: LGBMRegressor\n",
      " - features: 37\n",
      " - kmeans feats: ['Mileage(km)', 'Year', 'Horsepower', 'EngineSize(L)']\n"
     ]
    }
   ],
   "source": [
    "from pathlib import Path\n",
    "import pandas as pd\n",
    "import numpy as np\n",
    "import json, joblib\n",
    "\n",
    "from src.inference import load_artifacts, predict_and_cluster\n",
    "from src.recommend import load_catalog, recommend_by_budget_only, recommend_minimal\n",
    "\n",
    "PROJECT_ROOT = Path().resolve().parents[0]\n",
    "MODELS_DIR   = PROJECT_ROOT / \"models\"\n",
    "REPORTS_DIR  = PROJECT_ROOT / \"reports\" / \"results\"\n",
    "REPORTS_DIR.mkdir(parents=True, exist_ok=True)\n",
    "\n",
    "artifacts = load_artifacts(PROJECT_ROOT)\n",
    "catalog = load_catalog(PROJECT_ROOT)\n",
    "\n",
    "print(\"Loaded:\")\n",
    "print(\" - model:\", type(artifacts[\"model\"]).__name__)\n",
    "print(\" - features:\", len(artifacts[\"feature_columns\"]))\n",
    "print(\" - kmeans feats:\", artifacts[\"kmeans_features\"])\n"
   ]
  },
  {
   "cell_type": "code",
   "execution_count": 4,
   "id": "1d204d5a",
   "metadata": {},
   "outputs": [
    {
     "name": "stdout",
     "output_type": "stream",
     "text": [
      "Sample 1 → price=$10822, segment=Budget\n",
      "Sample 2 → price=$44586, segment=Luxury\n",
      "Saved: C:\\Users\\User\\Desktop\\Projects\\Car_Price\\reports\\results\\smoke_predict_samples.csv\n"
     ]
    },
    {
     "data": {
      "text/html": [
       "<div>\n",
       "<style scoped>\n",
       "    .dataframe tbody tr th:only-of-type {\n",
       "        vertical-align: middle;\n",
       "    }\n",
       "\n",
       "    .dataframe tbody tr th {\n",
       "        vertical-align: top;\n",
       "    }\n",
       "\n",
       "    .dataframe thead th {\n",
       "        text-align: right;\n",
       "    }\n",
       "</style>\n",
       "<table border=\"1\" class=\"dataframe\">\n",
       "  <thead>\n",
       "    <tr style=\"text-align: right;\">\n",
       "      <th></th>\n",
       "      <th>sample_id</th>\n",
       "      <th>predicted_price</th>\n",
       "      <th>cluster_label</th>\n",
       "      <th>cluster_name</th>\n",
       "    </tr>\n",
       "  </thead>\n",
       "  <tbody>\n",
       "    <tr>\n",
       "      <th>0</th>\n",
       "      <td>1</td>\n",
       "      <td>10822.29</td>\n",
       "      <td>0</td>\n",
       "      <td>Budget</td>\n",
       "    </tr>\n",
       "    <tr>\n",
       "      <th>1</th>\n",
       "      <td>2</td>\n",
       "      <td>44585.67</td>\n",
       "      <td>0</td>\n",
       "      <td>Luxury</td>\n",
       "    </tr>\n",
       "  </tbody>\n",
       "</table>\n",
       "</div>"
      ],
      "text/plain": [
       "   sample_id  predicted_price  cluster_label cluster_name\n",
       "0          1         10822.29              0       Budget\n",
       "1          2         44585.67              0       Luxury"
      ]
     },
     "execution_count": 4,
     "metadata": {},
     "output_type": "execute_result"
    }
   ],
   "source": [
    "from pathlib import Path\n",
    "import pandas as pd\n",
    "from src.inference import load_artifacts, predict_and_cluster\n",
    "\n",
    "# Load artifacts + set reports dir\n",
    "PROJECT_ROOT = Path().resolve().parents[0]\n",
    "artifacts = load_artifacts(PROJECT_ROOT)\n",
    "REPORTS_DIR = PROJECT_ROOT / \"reports\" / \"results\"\n",
    "REPORTS_DIR.mkdir(parents=True, exist_ok=True)\n",
    "\n",
    "samples = [\n",
    "    {\n",
    "        \"Brand\": \"Hyundai\", \"Model\": \"Accent\", \"Year\": 2011, \"Condition\": \"Used\",\n",
    "        \"Mileage(km)\": 180000, \"EngineSize(L)\": 1.4, \"FuelType\": \"Gasoline\",\n",
    "        \"Horsepower\": 100, \"Torque\": 97, \"Transmission\": \"Manual\",\n",
    "        \"DriveType\": \"FWD\", \"BodyType\": \"Sedan\",\n",
    "        \"FuelEfficiency(L/100km)\": 7.8\n",
    "    }\n",
    ",\n",
    "    {\n",
    "        \"Brand\":\"Mercedes-Benz\",\"Model\":\"S-Class\",\"Year\":2022,\"Condition\":\"Used\",\n",
    "        \"Mileage(km)\":5000,\"EngineSize(L)\":4.0,\"FuelType\":\"Gasoline\",\"Horsepower\":496,\"Torque\":516,\n",
    "        \"Transmission\":\"Automatic\",\"DriveType\":\"AWD\",\"BodyType\":\"Sedan\",\"Doors\":4,\"Seats\":5,\n",
    "        \"AccidentHistory\":\"No\", \"FuelEfficiency(L/100km)\":7.2,\n",
    "    },\n",
    "]\n",
    "\n",
    "pred_rows = []\n",
    "for i, s in enumerate(samples, 1):\n",
    "    try:\n",
    "        out = predict_and_cluster(s, artifacts)\n",
    "        assert out[\"predicted_price\"] > 0\n",
    "        assert isinstance(out[\"cluster_label\"], int)\n",
    "        print(f\"Sample {i} → price=${out['predicted_price']:.0f}, segment={out['cluster_name']}\")\n",
    "        pred_rows.append({\n",
    "            \"sample_id\": i,\n",
    "            \"predicted_price\": round(out[\"predicted_price\"], 2),\n",
    "            \"cluster_label\": out[\"cluster_label\"],\n",
    "            \"cluster_name\": out[\"cluster_name\"]\n",
    "        })\n",
    "    except Exception as e:\n",
    "        print(f\"Sample {i} failed: {e}\")\n",
    "\n",
    "pred_df = pd.DataFrame(pred_rows)\n",
    "pred_path = REPORTS_DIR / \"smoke_predict_samples.csv\"\n",
    "pred_df.to_csv(pred_path, index=False)\n",
    "print(\"Saved:\", pred_path)\n",
    "pred_df\n"
   ]
  }
 ],
 "metadata": {
  "kernelspec": {
   "display_name": "usedcar",
   "language": "python",
   "name": "python3"
  },
  "language_info": {
   "codemirror_mode": {
    "name": "ipython",
    "version": 3
   },
   "file_extension": ".py",
   "mimetype": "text/x-python",
   "name": "python",
   "nbconvert_exporter": "python",
   "pygments_lexer": "ipython3",
   "version": "3.10.18"
  }
 },
 "nbformat": 4,
 "nbformat_minor": 5
}
