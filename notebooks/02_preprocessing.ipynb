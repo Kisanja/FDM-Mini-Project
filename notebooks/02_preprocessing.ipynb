{
 "cells": [
  {
   "cell_type": "markdown",
   "id": "70b1377b",
   "metadata": {},
   "source": [
    "Imports, paths, config"
   ]
  },
  {
   "cell_type": "code",
   "execution_count": 1,
   "id": "bb937cb1",
   "metadata": {},
   "outputs": [
    {
     "name": "stdout",
     "output_type": "stream",
     "text": [
      "Project root: C:\\Users\\User\\Desktop\\Projects\\Car_Price\n",
      "Raw file: C:\\Users\\User\\Desktop\\Projects\\Car_Price\\data\\raw\\car.csv\n"
     ]
    }
   ],
   "source": [
    "import json, pathlib\n",
    "import numpy as np\n",
    "import pandas as pd\n",
    "from sklearn.model_selection import train_test_split\n",
    "\n",
    "# ── Paths\n",
    "PROJECT_ROOT = pathlib.Path().resolve().parents[0]\n",
    "RAW_FILE = PROJECT_ROOT / \"data\" / \"raw\" / \"car.csv\"\n",
    "INTERIM_FILE = PROJECT_ROOT / \"data\" / \"interim\" / \"cleaned.csv\"\n",
    "PROCESSED_DIR = PROJECT_ROOT / \"data\" / \"processed\"\n",
    "PROCESSED_DIR.mkdir(parents=True, exist_ok=True)\n",
    "\n",
    "# ── Config\n",
    "SEED = 42\n",
    "TEST_SIZE = 0.20\n",
    "TOP_OPTIONS = 10  # how many option flags to extract\n",
    "TARGET = \"Price($)\"\n",
    "\n",
    "CATEGORICAL_COLS = [\n",
    "    \"Brand\",\"Model\",\"Condition\",\"FuelType\",\"Transmission\",\"DriveType\",\n",
    "    \"BodyType\",\"Color\",\"Interior\",\"City\",\"AccidentHistory\",\n",
    "    \"Insurance\",\"RegistrationStatus\"\n",
    "]\n",
    "\n",
    "NUMERIC_COLS = [\n",
    "    \"Year\",\"Mileage(km)\",\"EngineSize(L)\",\"Horsepower\",\"Torque\",\n",
    "    \"Doors\",\"Seats\",\"FuelEfficiency(L/100km)\",\"PricePerKm\", TARGET\n",
    "]\n",
    "\n",
    "print(\"Project root:\", PROJECT_ROOT)\n",
    "print(\"Raw file:\", RAW_FILE)"
   ]
  },
  {
   "cell_type": "markdown",
   "id": "a589d074",
   "metadata": {},
   "source": [
    "Load & initial shape"
   ]
  },
  {
   "cell_type": "code",
   "execution_count": 2,
   "id": "62ea05fe",
   "metadata": {},
   "outputs": [
    {
     "name": "stdout",
     "output_type": "stream",
     "text": [
      "Initial shape: (50100, 25)\n"
     ]
    },
    {
     "data": {
      "text/html": [
       "<div>\n",
       "<style scoped>\n",
       "    .dataframe tbody tr th:only-of-type {\n",
       "        vertical-align: middle;\n",
       "    }\n",
       "\n",
       "    .dataframe tbody tr th {\n",
       "        vertical-align: top;\n",
       "    }\n",
       "\n",
       "    .dataframe thead th {\n",
       "        text-align: right;\n",
       "    }\n",
       "</style>\n",
       "<table border=\"1\" class=\"dataframe\">\n",
       "  <thead>\n",
       "    <tr style=\"text-align: right;\">\n",
       "      <th></th>\n",
       "      <th>Brand</th>\n",
       "      <th>Model</th>\n",
       "      <th>Year</th>\n",
       "      <th>CarAge</th>\n",
       "      <th>Condition</th>\n",
       "      <th>Mileage(km)</th>\n",
       "      <th>EngineSize(L)</th>\n",
       "      <th>FuelType</th>\n",
       "      <th>Horsepower</th>\n",
       "      <th>Torque</th>\n",
       "      <th>...</th>\n",
       "      <th>Color</th>\n",
       "      <th>Interior</th>\n",
       "      <th>Options</th>\n",
       "      <th>City</th>\n",
       "      <th>AccidentHistory</th>\n",
       "      <th>Insurance</th>\n",
       "      <th>RegistrationStatus</th>\n",
       "      <th>FuelEfficiency(L/100km)</th>\n",
       "      <th>PricePerKm</th>\n",
       "      <th>Price($)</th>\n",
       "    </tr>\n",
       "  </thead>\n",
       "  <tbody>\n",
       "    <tr>\n",
       "      <th>0</th>\n",
       "      <td>Porsche</td>\n",
       "      <td>Panamera</td>\n",
       "      <td>2008</td>\n",
       "      <td>17</td>\n",
       "      <td>Used</td>\n",
       "      <td>256395</td>\n",
       "      <td>3.3</td>\n",
       "      <td>Gasoline</td>\n",
       "      <td>513</td>\n",
       "      <td>395</td>\n",
       "      <td>...</td>\n",
       "      <td>White</td>\n",
       "      <td>Cloth</td>\n",
       "      <td>Navigation, Cruise Control, Heated Seats, Blue...</td>\n",
       "      <td>Tehran</td>\n",
       "      <td>No</td>\n",
       "      <td>Valid</td>\n",
       "      <td>Incomplete</td>\n",
       "      <td>11.96</td>\n",
       "      <td>0.05</td>\n",
       "      <td>13884</td>\n",
       "    </tr>\n",
       "    <tr>\n",
       "      <th>1</th>\n",
       "      <td>Audi</td>\n",
       "      <td>A6</td>\n",
       "      <td>2023</td>\n",
       "      <td>2</td>\n",
       "      <td>Used</td>\n",
       "      <td>20433</td>\n",
       "      <td>2.2</td>\n",
       "      <td>Diesel</td>\n",
       "      <td>302</td>\n",
       "      <td>270</td>\n",
       "      <td>...</td>\n",
       "      <td>Black</td>\n",
       "      <td>Cloth</td>\n",
       "      <td>Parking Sensors, Cruise Control, Touchscreen</td>\n",
       "      <td>Berlin</td>\n",
       "      <td>Yes</td>\n",
       "      <td>Expired</td>\n",
       "      <td>Incomplete</td>\n",
       "      <td>8.74</td>\n",
       "      <td>1.90</td>\n",
       "      <td>38888</td>\n",
       "    </tr>\n",
       "    <tr>\n",
       "      <th>2</th>\n",
       "      <td>BMW</td>\n",
       "      <td>X5</td>\n",
       "      <td>2022</td>\n",
       "      <td>3</td>\n",
       "      <td>Used</td>\n",
       "      <td>52328</td>\n",
       "      <td>3.2</td>\n",
       "      <td>Gasoline</td>\n",
       "      <td>400</td>\n",
       "      <td>388</td>\n",
       "      <td>...</td>\n",
       "      <td>Gray</td>\n",
       "      <td>Leather</td>\n",
       "      <td>Touchscreen, Bluetooth, Cruise Control, Naviga...</td>\n",
       "      <td>Tokyo</td>\n",
       "      <td>Yes</td>\n",
       "      <td>Valid</td>\n",
       "      <td>Complete</td>\n",
       "      <td>15.68</td>\n",
       "      <td>0.63</td>\n",
       "      <td>33074</td>\n",
       "    </tr>\n",
       "    <tr>\n",
       "      <th>3</th>\n",
       "      <td>Hyundai</td>\n",
       "      <td>Tucson</td>\n",
       "      <td>2019</td>\n",
       "      <td>6</td>\n",
       "      <td>Used</td>\n",
       "      <td>91878</td>\n",
       "      <td>1.6</td>\n",
       "      <td>Hybrid</td>\n",
       "      <td>187</td>\n",
       "      <td>219</td>\n",
       "      <td>...</td>\n",
       "      <td>Silver</td>\n",
       "      <td>Cloth</td>\n",
       "      <td>Sunroof, Rear Camera, Bluetooth, Parking Senso...</td>\n",
       "      <td>Delhi</td>\n",
       "      <td>No</td>\n",
       "      <td>Expired</td>\n",
       "      <td>Complete</td>\n",
       "      <td>9.45</td>\n",
       "      <td>0.14</td>\n",
       "      <td>12966</td>\n",
       "    </tr>\n",
       "    <tr>\n",
       "      <th>4</th>\n",
       "      <td>Fiat</td>\n",
       "      <td>500</td>\n",
       "      <td>2012</td>\n",
       "      <td>13</td>\n",
       "      <td>Damaged</td>\n",
       "      <td>192331</td>\n",
       "      <td>1.1</td>\n",
       "      <td>Gasoline</td>\n",
       "      <td>90</td>\n",
       "      <td>112</td>\n",
       "      <td>...</td>\n",
       "      <td>Red</td>\n",
       "      <td>Leather</td>\n",
       "      <td>Heated Seats, Touchscreen</td>\n",
       "      <td>Delhi</td>\n",
       "      <td>No</td>\n",
       "      <td>Valid</td>\n",
       "      <td>Complete</td>\n",
       "      <td>7.16</td>\n",
       "      <td>0.01</td>\n",
       "      <td>2670</td>\n",
       "    </tr>\n",
       "  </tbody>\n",
       "</table>\n",
       "<p>5 rows × 25 columns</p>\n",
       "</div>"
      ],
      "text/plain": [
       "     Brand     Model  Year  CarAge Condition  Mileage(km)  EngineSize(L)  \\\n",
       "0  Porsche  Panamera  2008      17      Used       256395            3.3   \n",
       "1     Audi        A6  2023       2      Used        20433            2.2   \n",
       "2      BMW        X5  2022       3      Used        52328            3.2   \n",
       "3  Hyundai    Tucson  2019       6      Used        91878            1.6   \n",
       "4     Fiat       500  2012      13   Damaged       192331            1.1   \n",
       "\n",
       "   FuelType  Horsepower  Torque  ...   Color Interior  \\\n",
       "0  Gasoline         513     395  ...   White    Cloth   \n",
       "1    Diesel         302     270  ...   Black    Cloth   \n",
       "2  Gasoline         400     388  ...    Gray  Leather   \n",
       "3    Hybrid         187     219  ...  Silver    Cloth   \n",
       "4  Gasoline          90     112  ...     Red  Leather   \n",
       "\n",
       "                                             Options    City  AccidentHistory  \\\n",
       "0  Navigation, Cruise Control, Heated Seats, Blue...  Tehran               No   \n",
       "1       Parking Sensors, Cruise Control, Touchscreen  Berlin              Yes   \n",
       "2  Touchscreen, Bluetooth, Cruise Control, Naviga...   Tokyo              Yes   \n",
       "3  Sunroof, Rear Camera, Bluetooth, Parking Senso...   Delhi               No   \n",
       "4                          Heated Seats, Touchscreen   Delhi               No   \n",
       "\n",
       "  Insurance RegistrationStatus FuelEfficiency(L/100km) PricePerKm Price($)  \n",
       "0     Valid         Incomplete                   11.96       0.05    13884  \n",
       "1   Expired         Incomplete                    8.74       1.90    38888  \n",
       "2     Valid           Complete                   15.68       0.63    33074  \n",
       "3   Expired           Complete                    9.45       0.14    12966  \n",
       "4     Valid           Complete                    7.16       0.01     2670  \n",
       "\n",
       "[5 rows x 25 columns]"
      ]
     },
     "execution_count": 2,
     "metadata": {},
     "output_type": "execute_result"
    }
   ],
   "source": [
    "df = pd.read_csv(RAW_FILE)\n",
    "print(\"Initial shape:\", df.shape)\n",
    "df.head()\n"
   ]
  },
  {
   "cell_type": "markdown",
   "id": "ee2cf766",
   "metadata": {},
   "source": [
    "Drop exact duplicates"
   ]
  },
  {
   "cell_type": "code",
   "execution_count": 3,
   "id": "36ebcfab",
   "metadata": {},
   "outputs": [
    {
     "name": "stdout",
     "output_type": "stream",
     "text": [
      "Removed duplicates: 100 | Shape now: (50000, 25)\n"
     ]
    }
   ],
   "source": [
    "before = len(df)\n",
    "df = df.drop_duplicates()\n",
    "print(f\"Removed duplicates: {before - len(df)} | Shape now: {df.shape}\")"
   ]
  },
  {
   "cell_type": "markdown",
   "id": "bbbd4f13",
   "metadata": {},
   "source": [
    "Drop redundant columns (CarAge) and tidy strings"
   ]
  },
  {
   "cell_type": "code",
   "execution_count": 4,
   "id": "bb4a0002",
   "metadata": {},
   "outputs": [
    {
     "name": "stdout",
     "output_type": "stream",
     "text": [
      "Dropped column: CarAge\n",
      "Stripped whitespace on object columns: 14\n",
      "Dropped columns: ['Color', 'Interior', 'Options', 'City', 'Insurance', 'RegistrationStatus', 'PricePerKm', 'Doors', 'Seats']\n"
     ]
    }
   ],
   "source": [
    "# 1) Drop CarAge (redundant with Year)\n",
    "if \"CarAge\" in df.columns:\n",
    "    df = df.drop(columns=[\"CarAge\"])\n",
    "    print(\"Dropped column: CarAge\")\n",
    "\n",
    "# 2) Strip whitespace from text columns\n",
    "obj_cols = df.select_dtypes(include=\"object\").columns.tolist()\n",
    "for c in obj_cols:\n",
    "    df[c] = df[c].astype(str).str.strip()\n",
    "print(\"Stripped whitespace on object columns:\", len(obj_cols))\n",
    "\n",
    "# 3) Drop less important or redundant columns\n",
    "DROP_COLS = [\n",
    "    \"Color\",\n",
    "    \"Interior\",\n",
    "    \"Options\",\n",
    "    \"City\",\n",
    "    \"Insurance\",\n",
    "    \"RegistrationStatus\",\n",
    "    \"PricePerKm\",  # leakage\n",
    "    \"Doors\",\n",
    "    \"Seats\"\n",
    "]\n",
    "\n",
    "existing_drops = [c for c in DROP_COLS if c in df.columns]\n",
    "df = df.drop(columns=existing_drops)\n",
    "print(\"Dropped columns:\", existing_drops)\n"
   ]
  },
  {
   "cell_type": "markdown",
   "id": "3722ea82",
   "metadata": {},
   "source": [
    "Coerce numeric columns safely"
   ]
  },
  {
   "cell_type": "code",
   "execution_count": 5,
   "id": "f7ac0c6f",
   "metadata": {},
   "outputs": [
    {
     "data": {
      "text/html": [
       "<div>\n",
       "<style scoped>\n",
       "    .dataframe tbody tr th:only-of-type {\n",
       "        vertical-align: middle;\n",
       "    }\n",
       "\n",
       "    .dataframe tbody tr th {\n",
       "        vertical-align: top;\n",
       "    }\n",
       "\n",
       "    .dataframe thead th {\n",
       "        text-align: right;\n",
       "    }\n",
       "</style>\n",
       "<table border=\"1\" class=\"dataframe\">\n",
       "  <thead>\n",
       "    <tr style=\"text-align: right;\">\n",
       "      <th></th>\n",
       "      <th>added_NA_from_coercion</th>\n",
       "    </tr>\n",
       "  </thead>\n",
       "  <tbody>\n",
       "    <tr>\n",
       "      <th>Year</th>\n",
       "      <td>0</td>\n",
       "    </tr>\n",
       "    <tr>\n",
       "      <th>Mileage(km)</th>\n",
       "      <td>0</td>\n",
       "    </tr>\n",
       "    <tr>\n",
       "      <th>EngineSize(L)</th>\n",
       "      <td>0</td>\n",
       "    </tr>\n",
       "    <tr>\n",
       "      <th>Horsepower</th>\n",
       "      <td>0</td>\n",
       "    </tr>\n",
       "    <tr>\n",
       "      <th>Torque</th>\n",
       "      <td>0</td>\n",
       "    </tr>\n",
       "    <tr>\n",
       "      <th>FuelEfficiency(L/100km)</th>\n",
       "      <td>0</td>\n",
       "    </tr>\n",
       "    <tr>\n",
       "      <th>Price($)</th>\n",
       "      <td>0</td>\n",
       "    </tr>\n",
       "  </tbody>\n",
       "</table>\n",
       "</div>"
      ],
      "text/plain": [
       "                         added_NA_from_coercion\n",
       "Year                                          0\n",
       "Mileage(km)                                   0\n",
       "EngineSize(L)                                 0\n",
       "Horsepower                                    0\n",
       "Torque                                        0\n",
       "FuelEfficiency(L/100km)                       0\n",
       "Price($)                                      0"
      ]
     },
     "execution_count": 5,
     "metadata": {},
     "output_type": "execute_result"
    }
   ],
   "source": [
    "# Make sure numeric-like columns are numeric (coerce invalid to NaN)\n",
    "coerced_report = {}\n",
    "for c in NUMERIC_COLS:\n",
    "    if c in df.columns:\n",
    "        before_na = df[c].isna().sum()\n",
    "        df[c] = pd.to_numeric(df[c], errors=\"coerce\")\n",
    "        after_na = df[c].isna().sum()\n",
    "        coerced_report[c] = {\"added_NA_from_coercion\": int(after_na - before_na)}\n",
    "pd.DataFrame(coerced_report).T"
   ]
  },
  {
   "cell_type": "markdown",
   "id": "8c40b149",
   "metadata": {},
   "source": [
    "Ensure target present, drop rows with missing target"
   ]
  },
  {
   "cell_type": "code",
   "execution_count": 6,
   "id": "67dec704",
   "metadata": {},
   "outputs": [
    {
     "name": "stdout",
     "output_type": "stream",
     "text": [
      "Dropped rows with missing target: 0 | Shape: (50000, 15)\n"
     ]
    }
   ],
   "source": [
    "if TARGET not in df.columns:\n",
    "    raise ValueError(f\"Target column {TARGET!r} not found in data.\")\n",
    "before = len(df)\n",
    "df = df.dropna(subset=[TARGET])\n",
    "print(f\"Dropped rows with missing target: {before - len(df)} | Shape: {df.shape}\")"
   ]
  },
  {
   "cell_type": "markdown",
   "id": "ae7efc75",
   "metadata": {},
   "source": [
    "Missing value imputation"
   ]
  },
  {
   "cell_type": "code",
   "execution_count": 7,
   "id": "d0e54eff",
   "metadata": {},
   "outputs": [],
   "source": [
    "# Numeric → median ; Categorical → mode/Unknown\n",
    "for c in NUMERIC_COLS:\n",
    "    if c in df.columns:\n",
    "        med = df[c].median()\n",
    "        df[c] = df[c].fillna(med)\n",
    "\n",
    "for c in CATEGORICAL_COLS:\n",
    "    if c in df.columns:\n",
    "        mode = df[c].mode(dropna=True)\n",
    "        fill = mode.iloc[0] if not mode.empty else \"Unknown\"\n",
    "        df[c] = df[c].fillna(fill)"
   ]
  },
  {
   "cell_type": "markdown",
   "id": "3a9eb610",
   "metadata": {},
   "source": [
    "Outlier handling"
   ]
  },
  {
   "cell_type": "code",
   "execution_count": 8,
   "id": "fd5c38b2",
   "metadata": {},
   "outputs": [
    {
     "data": {
      "text/plain": [
       "{'Price($)': {'q01': 1492.99, 'q99': 85854.33000000007},\n",
       " 'Mileage(km)': {'q01': 202.0, 'q99': 303929.03},\n",
       " 'Horsepower': {'q01': 67.0, 'q99': 848.0},\n",
       " 'EngineSize(L)': {'q01': 0.0, 'q99': 4.9},\n",
       " 'FuelEfficiency(L/100km)': {'q01': 0.0, 'q99': 17.800100000000022}}"
      ]
     },
     "execution_count": 8,
     "metadata": {},
     "output_type": "execute_result"
    }
   ],
   "source": [
    "winsor_cols = [col for col in [\"Price($)\",\"Mileage(km)\",\"Horsepower\",\"EngineSize(L)\",\"FuelEfficiency(L/100km)\"] if col in df.columns]\n",
    "winsor_cutoffs = {}\n",
    "for c in winsor_cols:\n",
    "    lo, hi = df[c].quantile([0.01, 0.99])\n",
    "    df[c] = df[c].clip(lower=lo, upper=hi)\n",
    "    winsor_cutoffs[c] = {\"q01\": float(lo), \"q99\": float(hi)}\n",
    "winsor_cutoffs"
   ]
  },
  {
   "cell_type": "markdown",
   "id": "10df50f4",
   "metadata": {},
   "source": [
    "Feature engineering from Options"
   ]
  },
  {
   "cell_type": "code",
   "execution_count": 9,
   "id": "f637e115",
   "metadata": {},
   "outputs": [],
   "source": [
    "# # Create OptionsCount + top-K option flags; then drop raw Options\n",
    "# from collections import Counter\n",
    "\n",
    "# top_options = []\n",
    "\n",
    "# if \"Options\" in df.columns:\n",
    "#     # Clean nulls\n",
    "#     df[\"Options\"] = df[\"Options\"].fillna(\"\").astype(str)\n",
    "\n",
    "#     # 1) OptionsCount\n",
    "#     df[\"OptionsCount\"] = df[\"Options\"].apply(lambda s: len([t for t in s.split(\",\") if t.strip()]))\n",
    "\n",
    "#     # 2) Find top-K options (on the whole dataset is fine here since these are just presence flags)\n",
    "#     tokens = []\n",
    "#     for v in df[\"Options\"]:\n",
    "#         tokens += [t.strip().lower() for t in v.split(\",\") if t.strip()]\n",
    "#     top_options = [opt for opt, _ in Counter(tokens).most_common(TOP_OPTIONS)]\n",
    "\n",
    "#     # 3) Build option-flag features\n",
    "#     for opt in top_options:\n",
    "#         colname = f\"opt_{opt.replace(' ', '_')}\"\n",
    "#         df[colname] = df[\"Options\"].str.lower().apply(\n",
    "#             lambda s, o=opt: int(o in [t.strip() for t in s.split(\",\") if t.strip()])\n",
    "#         )\n",
    "\n",
    "#     # 4) Drop raw text column to keep dataset clean\n",
    "#     df = df.drop(columns=[\"Options\"])\n",
    "#     print(\"Created OptionsCount +\", len(top_options), \"option flags; dropped raw 'Options' column.\")\n",
    "\n",
    "# else:\n",
    "#     print(\"'Options' column not found; skipping option features.\")\n"
   ]
  },
  {
   "cell_type": "code",
   "execution_count": 10,
   "id": "2c404a03",
   "metadata": {},
   "outputs": [],
   "source": [
    "# --- EXTRA PREPROCESSING CONFIG ---\n",
    "TARGET = \"Price($)\"\n",
    "\n",
    "RARE_THRESH = 50          # minimum count to keep a category (Brand/Model)\n",
    "CORR_DROP_THRESHOLD = 0.95\n",
    "LOG_FEATURES_AUTO = True  # auto-detect skewed numeric cols (excludes TARGET)\n",
    "LOG_FEATURES_MANUAL = [\"Mileage(km)\"]  # apply log1p to fix skew if needed\n",
    "\n",
    "# Record metadata\n",
    "from pathlib import Path\n",
    "import json\n",
    "META_PATH = PROJECT_ROOT / \"data\" / \"processed\" / \"preprocess_meta.json\"\n",
    "try:\n",
    "    with open(META_PATH) as f:\n",
    "        meta = json.load(f)\n",
    "except FileNotFoundError:\n",
    "    meta = {}\n"
   ]
  },
  {
   "cell_type": "code",
   "execution_count": 11,
   "id": "54ea2683",
   "metadata": {},
   "outputs": [
    {
     "name": "stdout",
     "output_type": "stream",
     "text": [
      "✅ Normalized: FuelType, Transmission, Condition, DriveType, BodyType, AccidentHistory; tidied Brand/Model.\n"
     ]
    }
   ],
   "source": [
    "# --- Categorical normalization (final: only kept columns) ---\n",
    "\n",
    "def _norm(s):\n",
    "    return str(s).strip().lower().replace('-', ' ').replace('_', ' ')\n",
    "\n",
    "fuel_map = {\n",
    "    \"gasoline\": \"gasoline\", \"petrol\": \"gasoline\", \"benzine\": \"gasoline\",\n",
    "    \"diesel\": \"diesel\",\n",
    "    \"hybrid\": \"hybrid\", \"hybrid electric\": \"hybrid\",\n",
    "    \"electric\": \"electric\", \"ev\": \"electric\"\n",
    "}\n",
    "\n",
    "trans_map = {\n",
    "    \"auto\": \"automatic\", \"automatic\": \"automatic\", \"at\": \"automatic\",\n",
    "    \"manual\": \"manual\", \"mt\": \"manual\"\n",
    "}\n",
    "\n",
    "cond_map = {\n",
    "    \"used\": \"used\", \"new\": \"new\",\n",
    "    \"damaged\": \"damaged\", \"accident\": \"damaged\", \"salvage\": \"damaged\"\n",
    "}\n",
    "\n",
    "drive_map = {\n",
    "    \"fwd\": \"fwd\", \"front wheel drive\": \"fwd\",\n",
    "    \"rwd\": \"rwd\", \"rear wheel drive\": \"rwd\",\n",
    "    \"awd\": \"awd\", \"4wd\": \"awd\", \"4x4\": \"awd\", \"all wheel drive\": \"awd\"\n",
    "}\n",
    "\n",
    "body_map = {\n",
    "    \"sedan\": \"sedan\", \"saloon\": \"sedan\",\n",
    "    \"hatchback\": \"hatchback\",\n",
    "    \"suv\": \"suv\", \"crossover\": \"suv\",\n",
    "    \"coupe\": \"coupe\",\n",
    "    \"wagon\": \"wagon\", \"estate\": \"wagon\",\n",
    "    \"pickup\": \"pickup\", \"truck\": \"pickup\",\n",
    "    \"convertible\": \"convertible\", \"cabrio\": \"convertible\"\n",
    "}\n",
    "\n",
    "# Apply mappings only if column exists (from the kept set)\n",
    "if \"FuelType\" in df.columns:\n",
    "    df[\"FuelType\"] = df[\"FuelType\"].map(lambda x: fuel_map.get(_norm(x), _norm(x)))\n",
    "\n",
    "if \"Transmission\" in df.columns:\n",
    "    df[\"Transmission\"] = df[\"Transmission\"].map(lambda x: trans_map.get(_norm(x), _norm(x)))\n",
    "\n",
    "if \"Condition\" in df.columns:\n",
    "    df[\"Condition\"] = df[\"Condition\"].map(lambda x: cond_map.get(_norm(x), _norm(x)))\n",
    "\n",
    "if \"DriveType\" in df.columns:\n",
    "    df[\"DriveType\"] = df[\"DriveType\"].map(lambda x: drive_map.get(_norm(x), _norm(x)))\n",
    "\n",
    "if \"BodyType\" in df.columns:\n",
    "    df[\"BodyType\"] = df[\"BodyType\"].map(lambda x: body_map.get(_norm(x), _norm(x)))\n",
    "\n",
    "if \"AccidentHistory\" in df.columns:\n",
    "    # normalize to yes/no\n",
    "    df[\"AccidentHistory\"] = df[\"AccidentHistory\"].map(lambda x: \"yes\" if \"yes\" in _norm(x) else \"no\")\n",
    "\n",
    "# Light cleanup for identity text fields you kept\n",
    "for c in [\"Brand\", \"Model\"]:\n",
    "    if c in df.columns:\n",
    "        df[c] = df[c].astype(str).str.replace(r\"\\s+\", \" \", regex=True)\n",
    "\n",
    "meta.setdefault(\"normalization\", {})[\"applied\"] = True\n",
    "print(\"✅ Normalized: FuelType, Transmission, Condition, DriveType, BodyType, AccidentHistory; tidied Brand/Model.\")\n"
   ]
  },
  {
   "cell_type": "code",
   "execution_count": 12,
   "id": "61825fa2",
   "metadata": {},
   "outputs": [],
   "source": [
    "from collections import Counter\n",
    "\n",
    "def group_rare(df, col, min_count, other_label=\"Other\"):\n",
    "    vc = Counter(df[col].astype(str))\n",
    "    keep = {k for k,v in vc.items() if v >= min_count}\n",
    "    df[col] = df[col].astype(str).apply(lambda x: x if x in keep else other_label)\n",
    "    return sorted(list(keep))\n",
    "\n",
    "rare_info = {}\n",
    "\n",
    "if \"Brand\" in df.columns:\n",
    "    kept_brands = group_rare(df, \"Brand\", RARE_THRESH, \"Other\")\n",
    "    rare_info[\"Brand_min_count\"] = RARE_THRESH\n",
    "    rare_info[\"Brand_kept\"] = kept_brands\n",
    "\n",
    "# Model can be very granular—use a slightly lower threshold if you like\n",
    "if \"Model\" in df.columns:\n",
    "    kept_models = group_rare(df, \"Model\", max(20, RARE_THRESH//2), \"Other\")\n",
    "    rare_info[\"Model_min_count\"] = max(20, RARE_THRESH//2)\n",
    "    rare_info[\"Model_kept\"] = kept_models\n",
    "\n",
    "meta[\"rare_category\"] = rare_info\n"
   ]
  },
  {
   "cell_type": "code",
   "execution_count": 13,
   "id": "e09423ce",
   "metadata": {},
   "outputs": [
    {
     "name": "stdout",
     "output_type": "stream",
     "text": [
      "✅ Log-transformed columns: ['Horsepower']\n"
     ]
    }
   ],
   "source": [
    "# --- Log-transform skewed numeric features (after dropping extra columns) ---\n",
    "from scipy.stats import skew\n",
    "logged_cols = set()\n",
    "\n",
    "# Only apply to numeric predictors (not the target)\n",
    "candidate_log = [\n",
    "    c for c in df.select_dtypes(include=[np.number]).columns \n",
    "    if c != TARGET and c not in [\"PricePerKm\"]  # avoid derived or leakage features\n",
    "]\n",
    "\n",
    "for c in candidate_log:\n",
    "    s = df[c].dropna()\n",
    "    if (s <= 0).any():   # skip columns with zeros/negatives\n",
    "        continue\n",
    "    if abs(skew(s)) > 1.0:   # only log-transform if highly skewed\n",
    "        df[c] = np.log1p(df[c])\n",
    "        logged_cols.add(c)\n",
    "\n",
    "meta[\"log_transform\"] = {\"columns\": sorted(list(logged_cols))}\n",
    "print(\"✅ Log-transformed columns:\", sorted(list(logged_cols)))\n"
   ]
  },
  {
   "cell_type": "code",
   "execution_count": 14,
   "id": "433c1935",
   "metadata": {},
   "outputs": [
    {
     "name": "stdout",
     "output_type": "stream",
     "text": [
      "Extra preprocessing recorded to preprocess_meta.json\n"
     ]
    }
   ],
   "source": [
    "with open(META_PATH, \"w\") as f:\n",
    "    json.dump(meta, f, indent=2)\n",
    "\n",
    "print(\"Extra preprocessing recorded to preprocess_meta.json\")\n"
   ]
  },
  {
   "cell_type": "markdown",
   "id": "f65949bd",
   "metadata": {},
   "source": [
    "Train/Test split"
   ]
  },
  {
   "cell_type": "code",
   "execution_count": 15,
   "id": "fd7ae278",
   "metadata": {},
   "outputs": [
    {
     "name": "stdout",
     "output_type": "stream",
     "text": [
      "Train shape: (40000, 15)  | Test shape: (10000, 15)\n"
     ]
    }
   ],
   "source": [
    "train_df, test_df = train_test_split(df, test_size=TEST_SIZE, random_state=SEED)\n",
    "print(\"Train shape:\", train_df.shape, \" | Test shape:\", test_df.shape)"
   ]
  },
  {
   "cell_type": "markdown",
   "id": "2bb345c9",
   "metadata": {},
   "source": [
    "Save processed data + metadata"
   ]
  },
  {
   "cell_type": "code",
   "execution_count": 16,
   "id": "00b264a6",
   "metadata": {},
   "outputs": [],
   "source": [
    "# ---- Define what we actually kept/dropped (FINAL 14 for modeling) ----\n",
    "# Stick to the 14 columns you agreed with the evaluator (no Doors/Seats/Options/etc.)\n",
    "KEPT_ORDER = [\n",
    "    \"Brand\", \"Model\", \"Year\", \"Condition\",\n",
    "    \"Mileage(km)\", \"EngineSize(L)\", \"FuelType\",\n",
    "    \"Horsepower\", \"Torque\", \"Transmission\",\n",
    "    \"DriveType\", \"BodyType\",\n",
    "    \"FuelEfficiency(L/100km)\",\n",
    "    \"Price($)\"  # target\n",
    "]\n",
    "\n",
    "# Keep only those that exist (in case columns were renamed upstream)\n",
    "kept_cols = [c for c in KEPT_ORDER if c in df.columns]\n",
    "\n",
    "# Everything else is considered dropped\n",
    "dropped_cols = [c for c in df.columns if c not in kept_cols]\n",
    "\n",
    "# If you removed all the category unification steps, leave this empty\n",
    "normalization_info = {\n",
    "    \"FuelType\": \"kept/raw\",\n",
    "    \"Transmission\": \"kept/raw\"\n",
    "    # add notes if you normalized anything\n",
    "}\n",
    "\n",
    "# If you didn’t run the log-transform step or it found none, make sure this exists\n",
    "if \"logged_cols\" not in locals():\n",
    "    logged_cols = []\n"
   ]
  },
  {
   "cell_type": "code",
   "execution_count": 17,
   "id": "3d78f67e",
   "metadata": {},
   "outputs": [
    {
     "name": "stdout",
     "output_type": "stream",
     "text": [
      "Saved files:\n",
      " - C:\\Users\\User\\Desktop\\Projects\\Car_Price\\data\\interim\\cleaned.csv\n",
      " - C:\\Users\\User\\Desktop\\Projects\\Car_Price\\data\\processed\\train.csv\n",
      " - C:\\Users\\User\\Desktop\\Projects\\Car_Price\\data\\processed\\test.csv\n",
      " - C:\\Users\\User\\Desktop\\Projects\\Car_Price\\data\\processed\\preprocess_meta.json\n"
     ]
    }
   ],
   "source": [
    "# Save an interim full-clean copy (pre-split)\n",
    "INTERIM_FILE.parent.mkdir(parents=True, exist_ok=True)\n",
    "df.to_csv(INTERIM_FILE, index=False)\n",
    "\n",
    "# ---- Train/Test split (make sure you've done it right above) ----\n",
    "# train_df, test_df = train_test_split(df, test_size=TEST_SIZE, random_state=SEED)\n",
    "\n",
    "# Save final splits\n",
    "train_path = PROCESSED_DIR / \"train.csv\"\n",
    "test_path  = PROCESSED_DIR / \"test.csv\"\n",
    "train_df.to_csv(train_path, index=False)\n",
    "test_df.to_csv(test_path, index=False)\n",
    "\n",
    "# ---- Build reproducible metadata that reflects the NEW pipeline ----\n",
    "meta = {\n",
    "    \"seed\": SEED,\n",
    "    \"test_size\": TEST_SIZE,\n",
    "    \"kept_columns\": sorted(list(kept_cols)),\n",
    "    \"dropped_columns\": sorted(list(dropped_cols)),\n",
    "    \"normalization\": normalization_info,\n",
    "    \"log_transform\": {\"columns\": sorted(list(logged_cols))},\n",
    "    \"notes\": [\n",
    "        \"CarAge dropped as redundant with Year\",\n",
    "        \"PricePerKm excluded from modeling to avoid leakage\",\n",
    "        \"Options text features removed per evaluation feedback (kept core 14 columns)\"\n",
    "    ]\n",
    "}\n",
    "\n",
    "# Save metadata\n",
    "PROCESSED_DIR.mkdir(parents=True, exist_ok=True)\n",
    "with open(PROCESSED_DIR / \"preprocess_meta.json\", \"w\") as f:\n",
    "    json.dump(meta, f, indent=2)\n",
    "\n",
    "print(\"Saved files:\")\n",
    "print(\" -\", INTERIM_FILE)\n",
    "print(\" -\", train_path)\n",
    "print(\" -\", test_path)\n",
    "print(\" -\", PROCESSED_DIR / \"preprocess_meta.json\")\n"
   ]
  },
  {
   "cell_type": "markdown",
   "id": "d42c8295",
   "metadata": {},
   "source": [
    "Quick sanity report"
   ]
  },
  {
   "cell_type": "code",
   "execution_count": 18,
   "id": "6ee15a29",
   "metadata": {},
   "outputs": [
    {
     "data": {
      "text/plain": [
       "{'rows_train': 40000,\n",
       " 'rows_test': 10000,\n",
       " 'kept_columns': ['BodyType',\n",
       "  'Brand',\n",
       "  'Condition',\n",
       "  'DriveType',\n",
       "  'EngineSize(L)',\n",
       "  'FuelEfficiency(L/100km)',\n",
       "  'FuelType',\n",
       "  'Horsepower',\n",
       "  'Mileage(km)',\n",
       "  'Model',\n",
       "  'Price($)',\n",
       "  'Torque',\n",
       "  'Transmission',\n",
       "  'Year'],\n",
       " 'dropped_columns': ['AccidentHistory'],\n",
       " 'winsorized': ['Price($)',\n",
       "  'Mileage(km)',\n",
       "  'Horsepower',\n",
       "  'EngineSize(L)',\n",
       "  'FuelEfficiency(L/100km)'],\n",
       " 'target': 'Price($)',\n",
       " 'notes': ['Dropped CarAge (redundant with Year)',\n",
       "  'Dropped PricePerKm (data leakage risk)',\n",
       "  'Removed Options-related engineered features per evaluator feedback',\n",
       "  'Kept core 14 columns for modeling']}"
      ]
     },
     "execution_count": 18,
     "metadata": {},
     "output_type": "execute_result"
    }
   ],
   "source": [
    "# ---- Simplified report for final 14-column version ----\n",
    "report = {\n",
    "    \"rows_train\": len(train_df),\n",
    "    \"rows_test\": len(test_df),\n",
    "    \"kept_columns\": sorted(list(kept_cols)),\n",
    "    \"dropped_columns\": sorted(list(dropped_cols)),\n",
    "    \"winsorized\": list(winsor_cutoffs.keys()) if \"winsor_cutoffs\" in locals() else [],\n",
    "    \"target\": TARGET,\n",
    "    \"notes\": [\n",
    "        \"Dropped CarAge (redundant with Year)\",\n",
    "        \"Dropped PricePerKm (data leakage risk)\",\n",
    "        \"Removed Options-related engineered features per evaluator feedback\",\n",
    "        \"Kept core 14 columns for modeling\"\n",
    "    ]\n",
    "}\n",
    "report\n"
   ]
  },
  {
   "cell_type": "markdown",
   "id": "9c325537",
   "metadata": {},
   "source": [
    "Final Check"
   ]
  },
  {
   "cell_type": "code",
   "execution_count": 19,
   "id": "e3427993",
   "metadata": {},
   "outputs": [
    {
     "name": "stdout",
     "output_type": "stream",
     "text": [
      "Final dataset shape: (50000, 15)\n"
     ]
    }
   ],
   "source": [
    "print(\"Final dataset shape:\", df.shape)"
   ]
  },
  {
   "cell_type": "code",
   "execution_count": 20,
   "id": "8b4aa0ea",
   "metadata": {},
   "outputs": [
    {
     "name": "stdout",
     "output_type": "stream",
     "text": [
      "Missing values per column:\n",
      " Brand                      0\n",
      "Model                      0\n",
      "Year                       0\n",
      "Condition                  0\n",
      "Mileage(km)                0\n",
      "EngineSize(L)              0\n",
      "FuelType                   0\n",
      "Horsepower                 0\n",
      "Torque                     0\n",
      "Transmission               0\n",
      "DriveType                  0\n",
      "BodyType                   0\n",
      "AccidentHistory            0\n",
      "FuelEfficiency(L/100km)    0\n",
      "Price($)                   0\n",
      "dtype: int64\n"
     ]
    }
   ],
   "source": [
    "print(\"Missing values per column:\\n\", df.isna().sum())"
   ]
  },
  {
   "cell_type": "code",
   "execution_count": 21,
   "id": "744a79d7",
   "metadata": {},
   "outputs": [
    {
     "name": "stdout",
     "output_type": "stream",
     "text": [
      "Duplicate rows: 0\n"
     ]
    }
   ],
   "source": [
    "print(\"Duplicate rows:\", df.duplicated().sum())"
   ]
  },
  {
   "cell_type": "code",
   "execution_count": 22,
   "id": "c6b98021",
   "metadata": {},
   "outputs": [
    {
     "name": "stdout",
     "output_type": "stream",
     "text": [
      "Column types:\n",
      " Brand                       object\n",
      "Model                       object\n",
      "Year                         int64\n",
      "Condition                   object\n",
      "Mileage(km)                float64\n",
      "EngineSize(L)              float64\n",
      "FuelType                    object\n",
      "Horsepower                 float64\n",
      "Torque                       int64\n",
      "Transmission                object\n",
      "DriveType                   object\n",
      "BodyType                    object\n",
      "AccidentHistory             object\n",
      "FuelEfficiency(L/100km)    float64\n",
      "Price($)                   float64\n",
      "dtype: object\n"
     ]
    }
   ],
   "source": [
    "print(\"Column types:\\n\", df.dtypes)"
   ]
  },
  {
   "cell_type": "code",
   "execution_count": 23,
   "id": "f1de8357",
   "metadata": {},
   "outputs": [
    {
     "data": {
      "text/html": [
       "<div>\n",
       "<style scoped>\n",
       "    .dataframe tbody tr th:only-of-type {\n",
       "        vertical-align: middle;\n",
       "    }\n",
       "\n",
       "    .dataframe tbody tr th {\n",
       "        vertical-align: top;\n",
       "    }\n",
       "\n",
       "    .dataframe thead th {\n",
       "        text-align: right;\n",
       "    }\n",
       "</style>\n",
       "<table border=\"1\" class=\"dataframe\">\n",
       "  <thead>\n",
       "    <tr style=\"text-align: right;\">\n",
       "      <th></th>\n",
       "      <th>Brand</th>\n",
       "      <th>Model</th>\n",
       "      <th>Year</th>\n",
       "      <th>Condition</th>\n",
       "      <th>Mileage(km)</th>\n",
       "      <th>EngineSize(L)</th>\n",
       "      <th>FuelType</th>\n",
       "      <th>Horsepower</th>\n",
       "      <th>Torque</th>\n",
       "      <th>Transmission</th>\n",
       "      <th>DriveType</th>\n",
       "      <th>BodyType</th>\n",
       "      <th>AccidentHistory</th>\n",
       "      <th>FuelEfficiency(L/100km)</th>\n",
       "      <th>Price($)</th>\n",
       "    </tr>\n",
       "  </thead>\n",
       "  <tbody>\n",
       "    <tr>\n",
       "      <th>0</th>\n",
       "      <td>Porsche</td>\n",
       "      <td>Panamera</td>\n",
       "      <td>2008</td>\n",
       "      <td>used</td>\n",
       "      <td>256395.0</td>\n",
       "      <td>3.3</td>\n",
       "      <td>gasoline</td>\n",
       "      <td>6.242223</td>\n",
       "      <td>395</td>\n",
       "      <td>manual</td>\n",
       "      <td>awd</td>\n",
       "      <td>sedan</td>\n",
       "      <td>no</td>\n",
       "      <td>11.9600</td>\n",
       "      <td>13884.0</td>\n",
       "    </tr>\n",
       "    <tr>\n",
       "      <th>1</th>\n",
       "      <td>Audi</td>\n",
       "      <td>A6</td>\n",
       "      <td>2023</td>\n",
       "      <td>used</td>\n",
       "      <td>20433.0</td>\n",
       "      <td>2.2</td>\n",
       "      <td>diesel</td>\n",
       "      <td>5.713733</td>\n",
       "      <td>270</td>\n",
       "      <td>manual</td>\n",
       "      <td>fwd</td>\n",
       "      <td>sedan</td>\n",
       "      <td>yes</td>\n",
       "      <td>8.7400</td>\n",
       "      <td>38888.0</td>\n",
       "    </tr>\n",
       "    <tr>\n",
       "      <th>2</th>\n",
       "      <td>BMW</td>\n",
       "      <td>X5</td>\n",
       "      <td>2022</td>\n",
       "      <td>used</td>\n",
       "      <td>52328.0</td>\n",
       "      <td>3.2</td>\n",
       "      <td>gasoline</td>\n",
       "      <td>5.993961</td>\n",
       "      <td>388</td>\n",
       "      <td>automatic</td>\n",
       "      <td>awd</td>\n",
       "      <td>suv</td>\n",
       "      <td>yes</td>\n",
       "      <td>15.6800</td>\n",
       "      <td>33074.0</td>\n",
       "    </tr>\n",
       "    <tr>\n",
       "      <th>3</th>\n",
       "      <td>Hyundai</td>\n",
       "      <td>Tucson</td>\n",
       "      <td>2019</td>\n",
       "      <td>used</td>\n",
       "      <td>91878.0</td>\n",
       "      <td>1.6</td>\n",
       "      <td>hybrid</td>\n",
       "      <td>5.236442</td>\n",
       "      <td>219</td>\n",
       "      <td>automatic</td>\n",
       "      <td>fwd</td>\n",
       "      <td>suv</td>\n",
       "      <td>no</td>\n",
       "      <td>9.4500</td>\n",
       "      <td>12966.0</td>\n",
       "    </tr>\n",
       "    <tr>\n",
       "      <th>4</th>\n",
       "      <td>Fiat</td>\n",
       "      <td>500</td>\n",
       "      <td>2012</td>\n",
       "      <td>damaged</td>\n",
       "      <td>192331.0</td>\n",
       "      <td>1.1</td>\n",
       "      <td>gasoline</td>\n",
       "      <td>4.510860</td>\n",
       "      <td>112</td>\n",
       "      <td>automatic</td>\n",
       "      <td>fwd</td>\n",
       "      <td>hatchback</td>\n",
       "      <td>no</td>\n",
       "      <td>7.1600</td>\n",
       "      <td>2670.0</td>\n",
       "    </tr>\n",
       "    <tr>\n",
       "      <th>5</th>\n",
       "      <td>Porsche</td>\n",
       "      <td>911 Carrera</td>\n",
       "      <td>2018</td>\n",
       "      <td>used</td>\n",
       "      <td>110968.0</td>\n",
       "      <td>3.3</td>\n",
       "      <td>gasoline</td>\n",
       "      <td>6.338594</td>\n",
       "      <td>392</td>\n",
       "      <td>automatic</td>\n",
       "      <td>awd</td>\n",
       "      <td>coupe</td>\n",
       "      <td>no</td>\n",
       "      <td>12.6900</td>\n",
       "      <td>47830.0</td>\n",
       "    </tr>\n",
       "    <tr>\n",
       "      <th>6</th>\n",
       "      <td>Mercedes-Benz</td>\n",
       "      <td>S-Class</td>\n",
       "      <td>2019</td>\n",
       "      <td>used</td>\n",
       "      <td>82607.0</td>\n",
       "      <td>4.9</td>\n",
       "      <td>hybrid</td>\n",
       "      <td>6.234411</td>\n",
       "      <td>750</td>\n",
       "      <td>manual</td>\n",
       "      <td>rwd</td>\n",
       "      <td>sedan</td>\n",
       "      <td>yes</td>\n",
       "      <td>17.8001</td>\n",
       "      <td>51189.0</td>\n",
       "    </tr>\n",
       "    <tr>\n",
       "      <th>7</th>\n",
       "      <td>Porsche</td>\n",
       "      <td>Panamera</td>\n",
       "      <td>2014</td>\n",
       "      <td>used</td>\n",
       "      <td>163074.0</td>\n",
       "      <td>3.5</td>\n",
       "      <td>gasoline</td>\n",
       "      <td>6.242223</td>\n",
       "      <td>428</td>\n",
       "      <td>manual</td>\n",
       "      <td>rwd</td>\n",
       "      <td>sedan</td>\n",
       "      <td>no</td>\n",
       "      <td>13.0600</td>\n",
       "      <td>27296.0</td>\n",
       "    </tr>\n",
       "    <tr>\n",
       "      <th>8</th>\n",
       "      <td>Audi</td>\n",
       "      <td>Q7</td>\n",
       "      <td>2007</td>\n",
       "      <td>used</td>\n",
       "      <td>274471.0</td>\n",
       "      <td>2.0</td>\n",
       "      <td>gasoline</td>\n",
       "      <td>5.755742</td>\n",
       "      <td>277</td>\n",
       "      <td>automatic</td>\n",
       "      <td>awd</td>\n",
       "      <td>suv</td>\n",
       "      <td>yes</td>\n",
       "      <td>10.3800</td>\n",
       "      <td>5389.0</td>\n",
       "    </tr>\n",
       "    <tr>\n",
       "      <th>9</th>\n",
       "      <td>Ford</td>\n",
       "      <td>Mustang</td>\n",
       "      <td>2019</td>\n",
       "      <td>used</td>\n",
       "      <td>95498.0</td>\n",
       "      <td>4.6</td>\n",
       "      <td>gasoline</td>\n",
       "      <td>5.899897</td>\n",
       "      <td>588</td>\n",
       "      <td>manual</td>\n",
       "      <td>rwd</td>\n",
       "      <td>coupe</td>\n",
       "      <td>yes</td>\n",
       "      <td>14.9000</td>\n",
       "      <td>10704.0</td>\n",
       "    </tr>\n",
       "  </tbody>\n",
       "</table>\n",
       "</div>"
      ],
      "text/plain": [
       "           Brand        Model  Year Condition  Mileage(km)  EngineSize(L)  \\\n",
       "0        Porsche     Panamera  2008      used     256395.0            3.3   \n",
       "1           Audi           A6  2023      used      20433.0            2.2   \n",
       "2            BMW           X5  2022      used      52328.0            3.2   \n",
       "3        Hyundai       Tucson  2019      used      91878.0            1.6   \n",
       "4           Fiat          500  2012   damaged     192331.0            1.1   \n",
       "5        Porsche  911 Carrera  2018      used     110968.0            3.3   \n",
       "6  Mercedes-Benz      S-Class  2019      used      82607.0            4.9   \n",
       "7        Porsche     Panamera  2014      used     163074.0            3.5   \n",
       "8           Audi           Q7  2007      used     274471.0            2.0   \n",
       "9           Ford      Mustang  2019      used      95498.0            4.6   \n",
       "\n",
       "   FuelType  Horsepower  Torque Transmission DriveType   BodyType  \\\n",
       "0  gasoline    6.242223     395       manual       awd      sedan   \n",
       "1    diesel    5.713733     270       manual       fwd      sedan   \n",
       "2  gasoline    5.993961     388    automatic       awd        suv   \n",
       "3    hybrid    5.236442     219    automatic       fwd        suv   \n",
       "4  gasoline    4.510860     112    automatic       fwd  hatchback   \n",
       "5  gasoline    6.338594     392    automatic       awd      coupe   \n",
       "6    hybrid    6.234411     750       manual       rwd      sedan   \n",
       "7  gasoline    6.242223     428       manual       rwd      sedan   \n",
       "8  gasoline    5.755742     277    automatic       awd        suv   \n",
       "9  gasoline    5.899897     588       manual       rwd      coupe   \n",
       "\n",
       "  AccidentHistory  FuelEfficiency(L/100km)  Price($)  \n",
       "0              no                  11.9600   13884.0  \n",
       "1             yes                   8.7400   38888.0  \n",
       "2             yes                  15.6800   33074.0  \n",
       "3              no                   9.4500   12966.0  \n",
       "4              no                   7.1600    2670.0  \n",
       "5              no                  12.6900   47830.0  \n",
       "6             yes                  17.8001   51189.0  \n",
       "7              no                  13.0600   27296.0  \n",
       "8             yes                  10.3800    5389.0  \n",
       "9             yes                  14.9000   10704.0  "
      ]
     },
     "execution_count": 23,
     "metadata": {},
     "output_type": "execute_result"
    }
   ],
   "source": [
    "df.head(10)"
   ]
  }
 ],
 "metadata": {
  "kernelspec": {
   "display_name": "usedcar",
   "language": "python",
   "name": "python3"
  },
  "language_info": {
   "codemirror_mode": {
    "name": "ipython",
    "version": 3
   },
   "file_extension": ".py",
   "mimetype": "text/x-python",
   "name": "python",
   "nbconvert_exporter": "python",
   "pygments_lexer": "ipython3",
   "version": "3.10.18"
  }
 },
 "nbformat": 4,
 "nbformat_minor": 5
}
